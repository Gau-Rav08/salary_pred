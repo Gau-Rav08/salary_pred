{
  "nbformat": 4,
  "nbformat_minor": 0,
  "metadata": {
    "colab": {
      "name": "salary_prediction.ipynb",
      "provenance": [],
      "collapsed_sections": []
    },
    "kernelspec": {
      "name": "python3",
      "display_name": "Python 3"
    },
    "language_info": {
      "name": "python"
    }
  },
  "cells": [
    {
      "cell_type": "code",
      "metadata": {
        "id": "e_3VzZxCaw2y"
      },
      "source": [
        "import numpy as np\n",
        "import pandas as pd\n",
        "import matplotlib.pyplot as plt\n",
        "import seaborn as sns\n",
        "%matplotlib inline"
      ],
      "execution_count": 1,
      "outputs": []
    },
    {
      "cell_type": "code",
      "metadata": {
        "id": "3_89bB3Pcy7y"
      },
      "source": [
        "df = pd.read_csv('it_salary.csv')"
      ],
      "execution_count": 2,
      "outputs": []
    },
    {
      "cell_type": "code",
      "metadata": {
        "colab": {
          "base_uri": "https://localhost:8080/",
          "height": 353
        },
        "id": "bkfp_VSZiwlY",
        "outputId": "24aded2c-3c32-4e0c-d3a5-be806a99f89b"
      },
      "source": [
        "df.head(10)"
      ],
      "execution_count": 5,
      "outputs": [
        {
          "output_type": "execute_result",
          "data": {
            "text/html": [
              "<div>\n",
              "<style scoped>\n",
              "    .dataframe tbody tr th:only-of-type {\n",
              "        vertical-align: middle;\n",
              "    }\n",
              "\n",
              "    .dataframe tbody tr th {\n",
              "        vertical-align: top;\n",
              "    }\n",
              "\n",
              "    .dataframe thead th {\n",
              "        text-align: right;\n",
              "    }\n",
              "</style>\n",
              "<table border=\"1\" class=\"dataframe\">\n",
              "  <thead>\n",
              "    <tr style=\"text-align: right;\">\n",
              "      <th></th>\n",
              "      <th>level</th>\n",
              "      <th>yrs_exp</th>\n",
              "      <th>company_size</th>\n",
              "      <th>company_type</th>\n",
              "      <th>salary</th>\n",
              "    </tr>\n",
              "  </thead>\n",
              "  <tbody>\n",
              "    <tr>\n",
              "      <th>0</th>\n",
              "      <td>Senior</td>\n",
              "      <td>13.0</td>\n",
              "      <td>50-100</td>\n",
              "      <td>Startup</td>\n",
              "      <td>64000</td>\n",
              "    </tr>\n",
              "    <tr>\n",
              "      <th>1</th>\n",
              "      <td>Middle</td>\n",
              "      <td>4.0</td>\n",
              "      <td>more than 1000</td>\n",
              "      <td>Startup</td>\n",
              "      <td>70000</td>\n",
              "    </tr>\n",
              "    <tr>\n",
              "      <th>2</th>\n",
              "      <td>Senior</td>\n",
              "      <td>6.0</td>\n",
              "      <td>100-1000</td>\n",
              "      <td>Product</td>\n",
              "      <td>63000</td>\n",
              "    </tr>\n",
              "    <tr>\n",
              "      <th>3</th>\n",
              "      <td>Senior</td>\n",
              "      <td>10.0</td>\n",
              "      <td>50-100</td>\n",
              "      <td>Product</td>\n",
              "      <td>66000</td>\n",
              "    </tr>\n",
              "    <tr>\n",
              "      <th>4</th>\n",
              "      <td>Middle</td>\n",
              "      <td>11.0</td>\n",
              "      <td>more than 1000</td>\n",
              "      <td>Product</td>\n",
              "      <td>80000</td>\n",
              "    </tr>\n",
              "    <tr>\n",
              "      <th>5</th>\n",
              "      <td>Senior</td>\n",
              "      <td>12.0</td>\n",
              "      <td>50-100</td>\n",
              "      <td>Startup</td>\n",
              "      <td>85000</td>\n",
              "    </tr>\n",
              "    <tr>\n",
              "      <th>6</th>\n",
              "      <td>Head</td>\n",
              "      <td>15.0</td>\n",
              "      <td>100-1000</td>\n",
              "      <td>Product</td>\n",
              "      <td>81000</td>\n",
              "    </tr>\n",
              "    <tr>\n",
              "      <th>7</th>\n",
              "      <td>Head</td>\n",
              "      <td>8.0</td>\n",
              "      <td>100-1000</td>\n",
              "      <td>Product</td>\n",
              "      <td>66000</td>\n",
              "    </tr>\n",
              "    <tr>\n",
              "      <th>8</th>\n",
              "      <td>Senior</td>\n",
              "      <td>7.0</td>\n",
              "      <td>100-1000</td>\n",
              "      <td>Product</td>\n",
              "      <td>65000</td>\n",
              "    </tr>\n",
              "    <tr>\n",
              "      <th>9</th>\n",
              "      <td>Senior</td>\n",
              "      <td>8.0</td>\n",
              "      <td>100-1000</td>\n",
              "      <td>Product</td>\n",
              "      <td>65000</td>\n",
              "    </tr>\n",
              "  </tbody>\n",
              "</table>\n",
              "</div>"
            ],
            "text/plain": [
              "    level  yrs_exp    company_size company_type  salary\n",
              "0  Senior     13.0          50-100      Startup   64000\n",
              "1  Middle      4.0  more than 1000      Startup   70000\n",
              "2  Senior      6.0        100-1000      Product   63000\n",
              "3  Senior     10.0          50-100      Product   66000\n",
              "4  Middle     11.0  more than 1000      Product   80000\n",
              "5  Senior     12.0          50-100      Startup   85000\n",
              "6    Head     15.0        100-1000      Product   81000\n",
              "7    Head      8.0        100-1000      Product   66000\n",
              "8  Senior      7.0        100-1000      Product   65000\n",
              "9  Senior      8.0        100-1000      Product   65000"
            ]
          },
          "metadata": {},
          "execution_count": 5
        }
      ]
    },
    {
      "cell_type": "code",
      "metadata": {
        "colab": {
          "base_uri": "https://localhost:8080/"
        },
        "id": "p2tJSSmAsJoO",
        "outputId": "d3db5c5d-2d66-4973-8f08-845c9b0036a2"
      },
      "source": [
        " df.shape"
      ],
      "execution_count": 6,
      "outputs": [
        {
          "output_type": "execute_result",
          "data": {
            "text/plain": [
              "(1492, 5)"
            ]
          },
          "metadata": {},
          "execution_count": 6
        }
      ]
    },
    {
      "cell_type": "code",
      "metadata": {
        "colab": {
          "base_uri": "https://localhost:8080/"
        },
        "id": "XJNtQt5Qjz1X",
        "outputId": "c86a836f-b494-4ea0-e2fb-345bb31d6761"
      },
      "source": [
        "df.info()"
      ],
      "execution_count": 7,
      "outputs": [
        {
          "output_type": "stream",
          "name": "stdout",
          "text": [
            "<class 'pandas.core.frame.DataFrame'>\n",
            "RangeIndex: 1492 entries, 0 to 1491\n",
            "Data columns (total 5 columns):\n",
            " #   Column        Non-Null Count  Dtype  \n",
            "---  ------        --------------  -----  \n",
            " 0   level         1492 non-null   object \n",
            " 1   yrs_exp       1492 non-null   float64\n",
            " 2   company_size  1492 non-null   object \n",
            " 3   company_type  1492 non-null   object \n",
            " 4   salary        1492 non-null   int64  \n",
            "dtypes: float64(1), int64(1), object(3)\n",
            "memory usage: 58.4+ KB\n"
          ]
        }
      ]
    },
    {
      "cell_type": "code",
      "metadata": {
        "colab": {
          "base_uri": "https://localhost:8080/"
        },
        "id": "x6_-9XnOmQne",
        "outputId": "5ee7e610-abf0-44e1-f9e5-e1d94523e435"
      },
      "source": [
        "df.isnull().sum()"
      ],
      "execution_count": 8,
      "outputs": [
        {
          "output_type": "execute_result",
          "data": {
            "text/plain": [
              "level           0\n",
              "yrs_exp         0\n",
              "company_size    0\n",
              "company_type    0\n",
              "salary          0\n",
              "dtype: int64"
            ]
          },
          "metadata": {},
          "execution_count": 8
        }
      ]
    },
    {
      "cell_type": "code",
      "metadata": {
        "colab": {
          "base_uri": "https://localhost:8080/",
          "height": 110
        },
        "id": "ReGGTl7rsl_f",
        "outputId": "8c67d266-5db1-4170-a174-58d24a9e2299"
      },
      "source": [
        "df.describe().T"
      ],
      "execution_count": 9,
      "outputs": [
        {
          "output_type": "execute_result",
          "data": {
            "text/html": [
              "<div>\n",
              "<style scoped>\n",
              "    .dataframe tbody tr th:only-of-type {\n",
              "        vertical-align: middle;\n",
              "    }\n",
              "\n",
              "    .dataframe tbody tr th {\n",
              "        vertical-align: top;\n",
              "    }\n",
              "\n",
              "    .dataframe thead th {\n",
              "        text-align: right;\n",
              "    }\n",
              "</style>\n",
              "<table border=\"1\" class=\"dataframe\">\n",
              "  <thead>\n",
              "    <tr style=\"text-align: right;\">\n",
              "      <th></th>\n",
              "      <th>count</th>\n",
              "      <th>mean</th>\n",
              "      <th>std</th>\n",
              "      <th>min</th>\n",
              "      <th>25%</th>\n",
              "      <th>50%</th>\n",
              "      <th>75%</th>\n",
              "      <th>max</th>\n",
              "    </tr>\n",
              "  </thead>\n",
              "  <tbody>\n",
              "    <tr>\n",
              "      <th>yrs_exp</th>\n",
              "      <td>1492.0</td>\n",
              "      <td>8.766421</td>\n",
              "      <td>4.929540</td>\n",
              "      <td>0.0</td>\n",
              "      <td>5.0</td>\n",
              "      <td>8.0</td>\n",
              "      <td>11.0</td>\n",
              "      <td>38.0</td>\n",
              "    </tr>\n",
              "    <tr>\n",
              "      <th>salary</th>\n",
              "      <td>1492.0</td>\n",
              "      <td>72238.128686</td>\n",
              "      <td>23152.738753</td>\n",
              "      <td>6000.0</td>\n",
              "      <td>60000.0</td>\n",
              "      <td>69000.0</td>\n",
              "      <td>80000.0</td>\n",
              "      <td>216000.0</td>\n",
              "    </tr>\n",
              "  </tbody>\n",
              "</table>\n",
              "</div>"
            ],
            "text/plain": [
              "          count          mean           std  ...      50%      75%       max\n",
              "yrs_exp  1492.0      8.766421      4.929540  ...      8.0     11.0      38.0\n",
              "salary   1492.0  72238.128686  23152.738753  ...  69000.0  80000.0  216000.0\n",
              "\n",
              "[2 rows x 8 columns]"
            ]
          },
          "metadata": {},
          "execution_count": 9
        }
      ]
    },
    {
      "cell_type": "code",
      "metadata": {
        "id": "AJwEhmKOv5nW",
        "colab": {
          "base_uri": "https://localhost:8080/"
        },
        "outputId": "1b8a7db2-78e3-41ce-9077-122e50babeb2"
      },
      "source": [
        "df.level.value_counts()"
      ],
      "execution_count": 10,
      "outputs": [
        {
          "output_type": "execute_result",
          "data": {
            "text/plain": [
              "Senior    948\n",
              "Middle    412\n",
              "Junior     85\n",
              "Head       47\n",
              "Name: level, dtype: int64"
            ]
          },
          "metadata": {},
          "execution_count": 10
        }
      ]
    },
    {
      "cell_type": "code",
      "metadata": {
        "colab": {
          "base_uri": "https://localhost:8080/"
        },
        "id": "LvMWIOPenf22",
        "outputId": "b32f2969-9568-4c9a-dc82-7706b2ce7458"
      },
      "source": [
        "df.company_size.value_counts()"
      ],
      "execution_count": 11,
      "outputs": [
        {
          "output_type": "execute_result",
          "data": {
            "text/plain": [
              "100-1000          623\n",
              "more than 1000    550\n",
              "50-100            256\n",
              "less than 50       63\n",
              "Name: company_size, dtype: int64"
            ]
          },
          "metadata": {},
          "execution_count": 11
        }
      ]
    },
    {
      "cell_type": "code",
      "metadata": {
        "colab": {
          "base_uri": "https://localhost:8080/"
        },
        "id": "itxETmhSnkNH",
        "outputId": "bf02a359-3af7-4d24-d35c-ed88c912f2d2"
      },
      "source": [
        "df.company_type.value_counts()"
      ],
      "execution_count": 12,
      "outputs": [
        {
          "output_type": "execute_result",
          "data": {
            "text/plain": [
              "Product        998\n",
              "Startup        239\n",
              "Agency         228\n",
              "Corporation     27\n",
              "Name: company_type, dtype: int64"
            ]
          },
          "metadata": {},
          "execution_count": 12
        }
      ]
    },
    {
      "cell_type": "code",
      "metadata": {
        "colab": {
          "base_uri": "https://localhost:8080/",
          "height": 79
        },
        "id": "zpAAq8hPvauS",
        "outputId": "a96a88fd-8a0e-4bf0-d00e-e9e0782122d4"
      },
      "source": [
        "df[df['salary'] == df.salary.max()]"
      ],
      "execution_count": 13,
      "outputs": [
        {
          "output_type": "execute_result",
          "data": {
            "text/html": [
              "<div>\n",
              "<style scoped>\n",
              "    .dataframe tbody tr th:only-of-type {\n",
              "        vertical-align: middle;\n",
              "    }\n",
              "\n",
              "    .dataframe tbody tr th {\n",
              "        vertical-align: top;\n",
              "    }\n",
              "\n",
              "    .dataframe thead th {\n",
              "        text-align: right;\n",
              "    }\n",
              "</style>\n",
              "<table border=\"1\" class=\"dataframe\">\n",
              "  <thead>\n",
              "    <tr style=\"text-align: right;\">\n",
              "      <th></th>\n",
              "      <th>level</th>\n",
              "      <th>yrs_exp</th>\n",
              "      <th>company_size</th>\n",
              "      <th>company_type</th>\n",
              "      <th>salary</th>\n",
              "    </tr>\n",
              "  </thead>\n",
              "  <tbody>\n",
              "    <tr>\n",
              "      <th>438</th>\n",
              "      <td>Senior</td>\n",
              "      <td>12.0</td>\n",
              "      <td>100-1000</td>\n",
              "      <td>Product</td>\n",
              "      <td>216000</td>\n",
              "    </tr>\n",
              "  </tbody>\n",
              "</table>\n",
              "</div>"
            ],
            "text/plain": [
              "      level  yrs_exp company_size company_type  salary\n",
              "438  Senior     12.0     100-1000      Product  216000"
            ]
          },
          "metadata": {},
          "execution_count": 13
        }
      ]
    },
    {
      "cell_type": "code",
      "metadata": {
        "colab": {
          "base_uri": "https://localhost:8080/",
          "height": 404
        },
        "id": "_cwmOIvmnkBh",
        "outputId": "64e77bdb-e96a-43c6-e280-3bac4d285dac"
      },
      "source": [
        "plt.figure(figsize=(12,6))\n",
        "sns.boxplot(x=df.level, y=df.salary)"
      ],
      "execution_count": 14,
      "outputs": [
        {
          "output_type": "execute_result",
          "data": {
            "text/plain": [
              "<matplotlib.axes._subplots.AxesSubplot at 0x7efbfabd3750>"
            ]
          },
          "metadata": {},
          "execution_count": 14
        },
        {
          "output_type": "display_data",
          "data": {
            "image/png": "[encoded data removed]",
            "text/plain": [
              "<Figure size 864x432 with 1 Axes>"
            ]
          },
          "metadata": {
            "needs_background": "light"
          }
        }
      ]
    },
    {
      "cell_type": "code",
      "metadata": {
        "colab": {
          "base_uri": "https://localhost:8080/",
          "height": 405
        },
        "id": "KxB1-ZBjnj-y",
        "outputId": "7d87c1ce-a5f2-43fc-aae1-2581c0c11595"
      },
      "source": [
        "plt.figure(figsize=(12,6))\n",
        "sns.boxplot(x=df.company_size, y=df.salary)"
      ],
      "execution_count": 15,
      "outputs": [
        {
          "output_type": "execute_result",
          "data": {
            "text/plain": [
              "<matplotlib.axes._subplots.AxesSubplot at 0x7efbe5b3e210>"
            ]
          },
          "metadata": {},
          "execution_count": 15
        },
        {
          "output_type": "display_data",
          "data": {
            "image/png": "[encoded data removed]",
            "text/plain": [
              "<Figure size 864x432 with 1 Axes>"
            ]
          },
          "metadata": {
            "needs_background": "light"
          }
        }
      ]
    },
    {
      "cell_type": "code",
      "metadata": {
        "colab": {
          "base_uri": "https://localhost:8080/",
          "height": 404
        },
        "id": "_dRFYjyrnjr-",
        "outputId": "2dadd27a-1ee9-49cd-8d4e-9c0813b7de43"
      },
      "source": [
        "plt.figure(figsize=(12,6))\n",
        "sns.boxplot(x=df.company_type, y=df.salary)"
      ],
      "execution_count": 16,
      "outputs": [
        {
          "output_type": "execute_result",
          "data": {
            "text/plain": [
              "<matplotlib.axes._subplots.AxesSubplot at 0x7efbe558e710>"
            ]
          },
          "metadata": {},
          "execution_count": 16
        },
        {
          "output_type": "display_data",
          "data": {
            "image/png": "[encoded data removed]",
            "text/plain": [
              "<Figure size 864x432 with 1 Axes>"
            ]
          },
          "metadata": {
            "needs_background": "light"
          }
        }
      ]
    },
    {
      "cell_type": "code",
      "metadata": {
        "colab": {
          "base_uri": "https://localhost:8080/",
          "height": 514
        },
        "id": "rX1VPrkluio6",
        "outputId": "dc4487e3-3e48-461c-b3c5-f00c5d19c5e2"
      },
      "source": [
        "plt.figure(figsize=(10,8))\n",
        "sns.scatterplot(x = 'yrs_exp', y = 'salary', data = df)"
      ],
      "execution_count": 17,
      "outputs": [
        {
          "output_type": "execute_result",
          "data": {
            "text/plain": [
              "<matplotlib.axes._subplots.AxesSubplot at 0x7efbe5ad5790>"
            ]
          },
          "metadata": {},
          "execution_count": 17
        },
        {
          "output_type": "display_data",
          "data": {
            "image/png": "[encoded data removed]",
            "text/plain": [
              "<Figure size 720x576 with 1 Axes>"
            ]
          },
          "metadata": {
            "needs_background": "light"
          }
        }
      ]
    },
    {
      "cell_type": "code",
      "metadata": {
        "colab": {
          "base_uri": "https://localhost:8080/",
          "height": 514
        },
        "id": "CrkQP2e1tlYQ",
        "outputId": "12a2faeb-a59a-4acd-d832-b01754c3b7a2"
      },
      "source": [
        "plt.figure(figsize=(10,8))\n",
        "sns.scatterplot(x = 'yrs_exp', y = 'salary', hue = 'level', data = df)"
      ],
      "execution_count": 18,
      "outputs": [
        {
          "output_type": "execute_result",
          "data": {
            "text/plain": [
              "<matplotlib.axes._subplots.AxesSubplot at 0x7efbe554b350>"
            ]
          },
          "metadata": {},
          "execution_count": 18
        },
        {
          "output_type": "display_data",
          "data": {
            "image/png": "[encoded data removed]",
            "text/plain": [
              "<Figure size 720x576 with 1 Axes>"
            ]
          },
          "metadata": {
            "needs_background": "light"
          }
        }
      ]
    },
    {
      "cell_type": "code",
      "metadata": {
        "id": "BiEjrRclvarv"
      },
      "source": [
        "data = df.copy()"
      ],
      "execution_count": 19,
      "outputs": []
    },
    {
      "cell_type": "code",
      "metadata": {
        "id": "NlOvbUnIvapU"
      },
      "source": [
        "ndata = pd.get_dummies(data, prefix_sep='_')"
      ],
      "execution_count": 20,
      "outputs": []
    },
    {
      "cell_type": "code",
      "metadata": {
        "colab": {
          "base_uri": "https://localhost:8080/",
          "height": 237
        },
        "id": "Bk4fF-WR4bz2",
        "outputId": "5d541665-e4aa-4443-f715-1495cd3fa091"
      },
      "source": [
        "ndata.head()"
      ],
      "execution_count": 21,
      "outputs": [
        {
          "output_type": "execute_result",
          "data": {
            "text/html": [
              "<div>\n",
              "<style scoped>\n",
              "    .dataframe tbody tr th:only-of-type {\n",
              "        vertical-align: middle;\n",
              "    }\n",
              "\n",
              "    .dataframe tbody tr th {\n",
              "        vertical-align: top;\n",
              "    }\n",
              "\n",
              "    .dataframe thead th {\n",
              "        text-align: right;\n",
              "    }\n",
              "</style>\n",
              "<table border=\"1\" class=\"dataframe\">\n",
              "  <thead>\n",
              "    <tr style=\"text-align: right;\">\n",
              "      <th></th>\n",
              "      <th>yrs_exp</th>\n",
              "      <th>salary</th>\n",
              "      <th>level_Head</th>\n",
              "      <th>level_Junior</th>\n",
              "      <th>level_Middle</th>\n",
              "      <th>level_Senior</th>\n",
              "      <th>company_size_100-1000</th>\n",
              "      <th>company_size_50-100</th>\n",
              "      <th>company_size_less than 50</th>\n",
              "      <th>company_size_more than 1000</th>\n",
              "      <th>company_type_Agency</th>\n",
              "      <th>company_type_Corporation</th>\n",
              "      <th>company_type_Product</th>\n",
              "      <th>company_type_Startup</th>\n",
              "    </tr>\n",
              "  </thead>\n",
              "  <tbody>\n",
              "    <tr>\n",
              "      <th>0</th>\n",
              "      <td>13.0</td>\n",
              "      <td>64000</td>\n",
              "      <td>0</td>\n",
              "      <td>0</td>\n",
              "      <td>0</td>\n",
              "      <td>1</td>\n",
              "      <td>0</td>\n",
              "      <td>1</td>\n",
              "      <td>0</td>\n",
              "      <td>0</td>\n",
              "      <td>0</td>\n",
              "      <td>0</td>\n",
              "      <td>0</td>\n",
              "      <td>1</td>\n",
              "    </tr>\n",
              "    <tr>\n",
              "      <th>1</th>\n",
              "      <td>4.0</td>\n",
              "      <td>70000</td>\n",
              "      <td>0</td>\n",
              "      <td>0</td>\n",
              "      <td>1</td>\n",
              "      <td>0</td>\n",
              "      <td>0</td>\n",
              "      <td>0</td>\n",
              "      <td>0</td>\n",
              "      <td>1</td>\n",
              "      <td>0</td>\n",
              "      <td>0</td>\n",
              "      <td>0</td>\n",
              "      <td>1</td>\n",
              "    </tr>\n",
              "    <tr>\n",
              "      <th>2</th>\n",
              "      <td>6.0</td>\n",
              "      <td>63000</td>\n",
              "      <td>0</td>\n",
              "      <td>0</td>\n",
              "      <td>0</td>\n",
              "      <td>1</td>\n",
              "      <td>1</td>\n",
              "      <td>0</td>\n",
              "      <td>0</td>\n",
              "      <td>0</td>\n",
              "      <td>0</td>\n",
              "      <td>0</td>\n",
              "      <td>1</td>\n",
              "      <td>0</td>\n",
              "    </tr>\n",
              "    <tr>\n",
              "      <th>3</th>\n",
              "      <td>10.0</td>\n",
              "      <td>66000</td>\n",
              "      <td>0</td>\n",
              "      <td>0</td>\n",
              "      <td>0</td>\n",
              "      <td>1</td>\n",
              "      <td>0</td>\n",
              "      <td>1</td>\n",
              "      <td>0</td>\n",
              "      <td>0</td>\n",
              "      <td>0</td>\n",
              "      <td>0</td>\n",
              "      <td>1</td>\n",
              "      <td>0</td>\n",
              "    </tr>\n",
              "    <tr>\n",
              "      <th>4</th>\n",
              "      <td>11.0</td>\n",
              "      <td>80000</td>\n",
              "      <td>0</td>\n",
              "      <td>0</td>\n",
              "      <td>1</td>\n",
              "      <td>0</td>\n",
              "      <td>0</td>\n",
              "      <td>0</td>\n",
              "      <td>0</td>\n",
              "      <td>1</td>\n",
              "      <td>0</td>\n",
              "      <td>0</td>\n",
              "      <td>1</td>\n",
              "      <td>0</td>\n",
              "    </tr>\n",
              "  </tbody>\n",
              "</table>\n",
              "</div>"
            ],
            "text/plain": [
              "   yrs_exp  salary  ...  company_type_Product  company_type_Startup\n",
              "0     13.0   64000  ...                     0                     1\n",
              "1      4.0   70000  ...                     0                     1\n",
              "2      6.0   63000  ...                     1                     0\n",
              "3     10.0   66000  ...                     1                     0\n",
              "4     11.0   80000  ...                     1                     0\n",
              "\n",
              "[5 rows x 14 columns]"
            ]
          },
          "metadata": {},
          "execution_count": 21
        }
      ]
    },
    {
      "cell_type": "code",
      "metadata": {
        "colab": {
          "base_uri": "https://localhost:8080/"
        },
        "id": "UgCIsBXpHvGL",
        "outputId": "c44c2432-7817-4e35-e2a1-ee8a12e9181a"
      },
      "source": [
        "ndata.shape"
      ],
      "execution_count": 23,
      "outputs": [
        {
          "output_type": "execute_result",
          "data": {
            "text/plain": [
              "(1492, 14)"
            ]
          },
          "metadata": {},
          "execution_count": 23
        }
      ]
    },
    {
      "cell_type": "code",
      "metadata": {
        "colab": {
          "base_uri": "https://localhost:8080/"
        },
        "id": "p783EUsI4J7C",
        "outputId": "0b5e686d-afef-4a5d-d37b-8c19da4a05e3"
      },
      "source": [
        "ndata.info()"
      ],
      "execution_count": 22,
      "outputs": [
        {
          "output_type": "stream",
          "name": "stdout",
          "text": [
            "<class 'pandas.core.frame.DataFrame'>\n",
            "RangeIndex: 1492 entries, 0 to 1491\n",
            "Data columns (total 14 columns):\n",
            " #   Column                       Non-Null Count  Dtype  \n",
            "---  ------                       --------------  -----  \n",
            " 0   yrs_exp                      1492 non-null   float64\n",
            " 1   salary                       1492 non-null   int64  \n",
            " 2   level_Head                   1492 non-null   uint8  \n",
            " 3   level_Junior                 1492 non-null   uint8  \n",
            " 4   level_Middle                 1492 non-null   uint8  \n",
            " 5   level_Senior                 1492 non-null   uint8  \n",
            " 6   company_size_100-1000        1492 non-null   uint8  \n",
            " 7   company_size_50-100          1492 non-null   uint8  \n",
            " 8   company_size_less than 50    1492 non-null   uint8  \n",
            " 9   company_size_more than 1000  1492 non-null   uint8  \n",
            " 10  company_type_Agency          1492 non-null   uint8  \n",
            " 11  company_type_Corporation     1492 non-null   uint8  \n",
            " 12  company_type_Product         1492 non-null   uint8  \n",
            " 13  company_type_Startup         1492 non-null   uint8  \n",
            "dtypes: float64(1), int64(1), uint8(12)\n",
            "memory usage: 40.9 KB\n"
          ]
        }
      ]
    },
    {
      "cell_type": "code",
      "metadata": {
        "id": "opqHkWJDHEZd"
      },
      "source": [
        "ndata = ndata.drop(['level_Junior','company_size_less than 50','company_type_Corporation'], axis='columns')"
      ],
      "execution_count": 24,
      "outputs": []
    },
    {
      "cell_type": "code",
      "metadata": {
        "colab": {
          "base_uri": "https://localhost:8080/"
        },
        "id": "RADHTrPjID26",
        "outputId": "7b8b1957-5cd5-4e64-e59d-c4363c7db539"
      },
      "source": [
        "ndata.shape"
      ],
      "execution_count": 25,
      "outputs": [
        {
          "output_type": "execute_result",
          "data": {
            "text/plain": [
              "(1492, 11)"
            ]
          },
          "metadata": {},
          "execution_count": 25
        }
      ]
    },
    {
      "cell_type": "code",
      "metadata": {
        "colab": {
          "base_uri": "https://localhost:8080/",
          "height": 217
        },
        "id": "1Xe92gJ7IHzK",
        "outputId": "18cccb13-7c3e-446a-ba28-b89f072039db"
      },
      "source": [
        "ndata.head()"
      ],
      "execution_count": 27,
      "outputs": [
        {
          "output_type": "execute_result",
          "data": {
            "text/html": [
              "<div>\n",
              "<style scoped>\n",
              "    .dataframe tbody tr th:only-of-type {\n",
              "        vertical-align: middle;\n",
              "    }\n",
              "\n",
              "    .dataframe tbody tr th {\n",
              "        vertical-align: top;\n",
              "    }\n",
              "\n",
              "    .dataframe thead th {\n",
              "        text-align: right;\n",
              "    }\n",
              "</style>\n",
              "<table border=\"1\" class=\"dataframe\">\n",
              "  <thead>\n",
              "    <tr style=\"text-align: right;\">\n",
              "      <th></th>\n",
              "      <th>yrs_exp</th>\n",
              "      <th>salary</th>\n",
              "      <th>level_Head</th>\n",
              "      <th>level_Middle</th>\n",
              "      <th>level_Senior</th>\n",
              "      <th>company_size_100-1000</th>\n",
              "      <th>company_size_50-100</th>\n",
              "      <th>company_size_more than 1000</th>\n",
              "      <th>company_type_Agency</th>\n",
              "      <th>company_type_Product</th>\n",
              "      <th>company_type_Startup</th>\n",
              "    </tr>\n",
              "  </thead>\n",
              "  <tbody>\n",
              "    <tr>\n",
              "      <th>0</th>\n",
              "      <td>13.0</td>\n",
              "      <td>64000</td>\n",
              "      <td>0</td>\n",
              "      <td>0</td>\n",
              "      <td>1</td>\n",
              "      <td>0</td>\n",
              "      <td>1</td>\n",
              "      <td>0</td>\n",
              "      <td>0</td>\n",
              "      <td>0</td>\n",
              "      <td>1</td>\n",
              "    </tr>\n",
              "    <tr>\n",
              "      <th>1</th>\n",
              "      <td>4.0</td>\n",
              "      <td>70000</td>\n",
              "      <td>0</td>\n",
              "      <td>1</td>\n",
              "      <td>0</td>\n",
              "      <td>0</td>\n",
              "      <td>0</td>\n",
              "      <td>1</td>\n",
              "      <td>0</td>\n",
              "      <td>0</td>\n",
              "      <td>1</td>\n",
              "    </tr>\n",
              "    <tr>\n",
              "      <th>2</th>\n",
              "      <td>6.0</td>\n",
              "      <td>63000</td>\n",
              "      <td>0</td>\n",
              "      <td>0</td>\n",
              "      <td>1</td>\n",
              "      <td>1</td>\n",
              "      <td>0</td>\n",
              "      <td>0</td>\n",
              "      <td>0</td>\n",
              "      <td>1</td>\n",
              "      <td>0</td>\n",
              "    </tr>\n",
              "    <tr>\n",
              "      <th>3</th>\n",
              "      <td>10.0</td>\n",
              "      <td>66000</td>\n",
              "      <td>0</td>\n",
              "      <td>0</td>\n",
              "      <td>1</td>\n",
              "      <td>0</td>\n",
              "      <td>1</td>\n",
              "      <td>0</td>\n",
              "      <td>0</td>\n",
              "      <td>1</td>\n",
              "      <td>0</td>\n",
              "    </tr>\n",
              "    <tr>\n",
              "      <th>4</th>\n",
              "      <td>11.0</td>\n",
              "      <td>80000</td>\n",
              "      <td>0</td>\n",
              "      <td>1</td>\n",
              "      <td>0</td>\n",
              "      <td>0</td>\n",
              "      <td>0</td>\n",
              "      <td>1</td>\n",
              "      <td>0</td>\n",
              "      <td>1</td>\n",
              "      <td>0</td>\n",
              "    </tr>\n",
              "  </tbody>\n",
              "</table>\n",
              "</div>"
            ],
            "text/plain": [
              "   yrs_exp  salary  ...  company_type_Product  company_type_Startup\n",
              "0     13.0   64000  ...                     0                     1\n",
              "1      4.0   70000  ...                     0                     1\n",
              "2      6.0   63000  ...                     1                     0\n",
              "3     10.0   66000  ...                     1                     0\n",
              "4     11.0   80000  ...                     1                     0\n",
              "\n",
              "[5 rows x 11 columns]"
            ]
          },
          "metadata": {},
          "execution_count": 27
        }
      ]
    },
    {
      "cell_type": "code",
      "metadata": {
        "id": "uM7Iqkxp5NJ-"
      },
      "source": [
        "from sklearn.model_selection import train_test_split\n",
        "from sklearn.linear_model import LinearRegression\n",
        "from sklearn.metrics import r2_score, accuracy_score, mean_squared_error"
      ],
      "execution_count": 28,
      "outputs": []
    },
    {
      "cell_type": "code",
      "metadata": {
        "id": "z8nXzj9z5bZn"
      },
      "source": [
        "X = ndata.drop('salary',axis=1)\n",
        "y = ndata.salary"
      ],
      "execution_count": 29,
      "outputs": []
    },
    {
      "cell_type": "code",
      "metadata": {
        "id": "jhEplpPJ4xuo"
      },
      "source": [
        "X_train, X_test, y_train, y_test = train_test_split(X, y, test_size=0.15, random_state=50)"
      ],
      "execution_count": 33,
      "outputs": []
    },
    {
      "cell_type": "code",
      "metadata": {
        "colab": {
          "base_uri": "https://localhost:8080/"
        },
        "id": "26t0DXab4xi3",
        "outputId": "09a52e54-7086-45b9-ba37-9347bca709bc"
      },
      "source": [
        "lr = LinearRegression()\n",
        "lr.fit(X_train, y_train)"
      ],
      "execution_count": 34,
      "outputs": [
        {
          "output_type": "execute_result",
          "data": {
            "text/plain": [
              "LinearRegression(copy_X=True, fit_intercept=True, n_jobs=None, normalize=False)"
            ]
          },
          "metadata": {},
          "execution_count": 34
        }
      ]
    },
    {
      "cell_type": "code",
      "metadata": {
        "colab": {
          "base_uri": "https://localhost:8080/"
        },
        "id": "ULoqZmgI7myT",
        "outputId": "7f378bca-669d-4f18-9da8-785025a4fb26"
      },
      "source": [
        "print(\"Linear Regression R^2 Score: {:.4f}%\".format(lr.score(X_test, y_test)*100))"
      ],
      "execution_count": 35,
      "outputs": [
        {
          "output_type": "stream",
          "name": "stdout",
          "text": [
            "Linear Regression R^2 Score: 37.7919%\n"
          ]
        }
      ]
    },
    {
      "cell_type": "code",
      "metadata": {
        "id": "KAVwigK6-Ju4"
      },
      "source": [
        "y_pred = lr.predict(X_test)"
      ],
      "execution_count": 37,
      "outputs": []
    },
    {
      "cell_type": "code",
      "metadata": {
        "colab": {
          "base_uri": "https://localhost:8080/"
        },
        "id": "b3ei9FD5C9J8",
        "outputId": "c8b52b19-55d8-4305-db1f-0c8ffb36bce5"
      },
      "source": [
        "print(\"Linear Regression RMSE: {:.4f}\".format(np.sqrt(mean_squared_error(y_test, y_pred))))"
      ],
      "execution_count": 38,
      "outputs": [
        {
          "output_type": "stream",
          "name": "stdout",
          "text": [
            "Linear Regression RMSE: 15736.1458\n"
          ]
        }
      ]
    },
    {
      "cell_type": "code",
      "metadata": {
        "colab": {
          "base_uri": "https://localhost:8080/",
          "height": 412
        },
        "id": "joMZPSDYAKSQ",
        "outputId": "fd9af691-794d-423a-890c-0ac88b19d049"
      },
      "source": [
        "diff = y_test - y_pred\n",
        "pd.DataFrame(np.c_[y_test , y_pred , diff] , columns=['Actual','Predicted','Difference'])"
      ],
      "execution_count": 39,
      "outputs": [
        {
          "output_type": "execute_result",
          "data": {
            "text/html": [
              "<div>\n",
              "<style scoped>\n",
              "    .dataframe tbody tr th:only-of-type {\n",
              "        vertical-align: middle;\n",
              "    }\n",
              "\n",
              "    .dataframe tbody tr th {\n",
              "        vertical-align: top;\n",
              "    }\n",
              "\n",
              "    .dataframe thead th {\n",
              "        text-align: right;\n",
              "    }\n",
              "</style>\n",
              "<table border=\"1\" class=\"dataframe\">\n",
              "  <thead>\n",
              "    <tr style=\"text-align: right;\">\n",
              "      <th></th>\n",
              "      <th>Actual</th>\n",
              "      <th>Predicted</th>\n",
              "      <th>Difference</th>\n",
              "    </tr>\n",
              "  </thead>\n",
              "  <tbody>\n",
              "    <tr>\n",
              "      <th>0</th>\n",
              "      <td>45000.0</td>\n",
              "      <td>60709.126333</td>\n",
              "      <td>-15709.126333</td>\n",
              "    </tr>\n",
              "    <tr>\n",
              "      <th>1</th>\n",
              "      <td>48000.0</td>\n",
              "      <td>41766.638307</td>\n",
              "      <td>6233.361693</td>\n",
              "    </tr>\n",
              "    <tr>\n",
              "      <th>2</th>\n",
              "      <td>87000.0</td>\n",
              "      <td>74095.313246</td>\n",
              "      <td>12904.686754</td>\n",
              "    </tr>\n",
              "    <tr>\n",
              "      <th>3</th>\n",
              "      <td>50000.0</td>\n",
              "      <td>50783.618260</td>\n",
              "      <td>-783.618260</td>\n",
              "    </tr>\n",
              "    <tr>\n",
              "      <th>4</th>\n",
              "      <td>48000.0</td>\n",
              "      <td>58759.874828</td>\n",
              "      <td>-10759.874828</td>\n",
              "    </tr>\n",
              "    <tr>\n",
              "      <th>...</th>\n",
              "      <td>...</td>\n",
              "      <td>...</td>\n",
              "      <td>...</td>\n",
              "    </tr>\n",
              "    <tr>\n",
              "      <th>219</th>\n",
              "      <td>65000.0</td>\n",
              "      <td>52608.976082</td>\n",
              "      <td>12391.023918</td>\n",
              "    </tr>\n",
              "    <tr>\n",
              "      <th>220</th>\n",
              "      <td>70000.0</td>\n",
              "      <td>63187.563248</td>\n",
              "      <td>6812.436752</td>\n",
              "    </tr>\n",
              "    <tr>\n",
              "      <th>221</th>\n",
              "      <td>65000.0</td>\n",
              "      <td>65618.794433</td>\n",
              "      <td>-618.794433</td>\n",
              "    </tr>\n",
              "    <tr>\n",
              "      <th>222</th>\n",
              "      <td>70000.0</td>\n",
              "      <td>79979.607098</td>\n",
              "      <td>-9979.607098</td>\n",
              "    </tr>\n",
              "    <tr>\n",
              "      <th>223</th>\n",
              "      <td>66000.0</td>\n",
              "      <td>75212.235114</td>\n",
              "      <td>-9212.235114</td>\n",
              "    </tr>\n",
              "  </tbody>\n",
              "</table>\n",
              "<p>224 rows × 3 columns</p>\n",
              "</div>"
            ],
            "text/plain": [
              "      Actual     Predicted    Difference\n",
              "0    45000.0  60709.126333 -15709.126333\n",
              "1    48000.0  41766.638307   6233.361693\n",
              "2    87000.0  74095.313246  12904.686754\n",
              "3    50000.0  50783.618260   -783.618260\n",
              "4    48000.0  58759.874828 -10759.874828\n",
              "..       ...           ...           ...\n",
              "219  65000.0  52608.976082  12391.023918\n",
              "220  70000.0  63187.563248   6812.436752\n",
              "221  65000.0  65618.794433   -618.794433\n",
              "222  70000.0  79979.607098  -9979.607098\n",
              "223  66000.0  75212.235114  -9212.235114\n",
              "\n",
              "[224 rows x 3 columns]"
            ]
          },
          "metadata": {},
          "execution_count": 39
        }
      ]
    },
    {
      "cell_type": "code",
      "metadata": {
        "colab": {
          "base_uri": "https://localhost:8080/"
        },
        "id": "Xm4YrTwbOOjP",
        "outputId": "d2e2bbdb-fc61-4e3d-ed6a-2a88b94f0621"
      },
      "source": [
        "X_train.iloc[792]"
      ],
      "execution_count": 40,
      "outputs": [
        {
          "output_type": "execute_result",
          "data": {
            "text/plain": [
              "yrs_exp                        2.0\n",
              "level_Head                     0.0\n",
              "level_Middle                   1.0\n",
              "level_Senior                   0.0\n",
              "company_size_100-1000          1.0\n",
              "company_size_50-100            0.0\n",
              "company_size_more than 1000    0.0\n",
              "company_type_Agency            1.0\n",
              "company_type_Product           0.0\n",
              "company_type_Startup           0.0\n",
              "Name: 294, dtype: float64"
            ]
          },
          "metadata": {},
          "execution_count": 40
        }
      ]
    },
    {
      "cell_type": "code",
      "metadata": {
        "colab": {
          "base_uri": "https://localhost:8080/"
        },
        "id": "Qk7Z7wp7MA0e",
        "outputId": "a57a7444-4a50-4c10-d9a4-f5c08d03ccb3"
      },
      "source": [
        "y_train.iloc[792]"
      ],
      "execution_count": 42,
      "outputs": [
        {
          "output_type": "execute_result",
          "data": {
            "text/plain": [
              "42000"
            ]
          },
          "metadata": {},
          "execution_count": 42
        }
      ]
    },
    {
      "cell_type": "code",
      "metadata": {
        "colab": {
          "base_uri": "https://localhost:8080/"
        },
        "id": "o8jJtebHMQon",
        "outputId": "39844fbd-14d9-474a-9af2-e56a8c15b46f"
      },
      "source": [
        "value = lr.predict([[2,0,1,0,1,0,0,1,0,0]])[0]\n",
        "print(value)"
      ],
      "execution_count": 48,
      "outputs": [
        {
          "output_type": "stream",
          "name": "stdout",
          "text": [
            "54539.82515595127\n"
          ]
        }
      ]
    },
    {
      "cell_type": "code",
      "metadata": {
        "id": "rcucCKE4OFvq"
      },
      "source": [
        "import pickle\n",
        "with open('lr_model.pickle','wb') as f:\n",
        "  pickle.dump(lr,f)"
      ],
      "execution_count": 47,
      "outputs": []
    }
  ]
}